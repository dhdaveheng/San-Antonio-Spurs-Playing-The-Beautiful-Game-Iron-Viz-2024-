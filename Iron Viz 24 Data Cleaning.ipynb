{
 "cells": [
  {
   "cell_type": "code",
   "execution_count": 1,
   "metadata": {},
   "outputs": [],
   "source": [
    "import numpy as np\n",
    "import pandas as pd\n",
    "import datetime as dt"
   ]
  },
  {
   "cell_type": "code",
   "execution_count": 3,
   "metadata": {},
   "outputs": [],
   "source": [
    "# Data cleaning\n",
    "# limit data from 2004-2005 season to 2021-2022 season since these dont have missing data"
   ]
  },
  {
   "cell_type": "code",
   "execution_count": null,
   "metadata": {},
   "outputs": [],
   "source": [
    "# loading data\n",
    "players = pd.read_csv(\"all_seasons.csv\", usecols=range(1,22))\n",
    "games_details = pd.read_csv(\"games_details.csv\")\n",
    "games = pd.read_csv(\"games.csv\")\n",
    "teams = pd.read_csv(\"teams.csv\")"
   ]
  },
  {
   "cell_type": "code",
   "execution_count": null,
   "metadata": {},
   "outputs": [],
   "source": [
    "# Cleaning players.csv file to retain players who were part of the San Antonio Spurs at least once\n",
    "\n",
    "players[\"year\"] = players.season.astype(str).str.split('-', expand=True)[0].astype(int).reset_index(drop=True)\n",
    "players_filtered = players[(players['year']>=2004) & (players['year']<=2021)].sort_values(by='season').reset_index(drop=True) # keep only players who were in the nba between 2004-2005 season and 2021-2022 season\n",
    "\n",
    "# create unique list of players who were on the Spurs at least once from 2004-2005 to 2021-2022 season\n",
    "players_spurs = players_filtered[players_filtered[\"team_abbreviation\"]=='SAS'].drop_duplicates('player_name').reset_index(drop=True)\n",
    "players_spurs.sort_values('year', ascending=True).reset_index(drop=True)\n",
    "\n",
    "# retrieve players stats over the years for both current and ex spurs\n",
    "players_stats = players_filtered[players_filtered['player_name'].isin(players_spurs['player_name'])]"
   ]
  },
  {
   "cell_type": "code",
   "execution_count": null,
   "metadata": {},
   "outputs": [],
   "source": [
    "# adding HOME_TEAM_NAME\n",
    "games_joined = games.merge(teams[[\"TEAM_ID\",\"ABBREVIATION\"]], how='left', left_on=\"HOME_TEAM_ID\", right_on=\"TEAM_ID\").reset_index(drop=True)\n",
    "games_joined.rename({\"ABBREVIATION\": \"HOME_TEAM_NAME\"}, axis=1, inplace=True)\n",
    "games_joined.drop(games_joined.columns[-2], axis=1, inplace=True)\n",
    "\n",
    "# adding AWAY_TEAM_NAME\n",
    "games_joined = games_joined.merge(teams[[\"TEAM_ID\",\"ABBREVIATION\"]], how='left', left_on=\"VISITOR_TEAM_ID\", right_on=\"TEAM_ID\").reset_index(drop=True)\n",
    "games_joined.rename({\"ABBREVIATION\": \"AWAY_TEAM_NAME\"}, axis=1, inplace=True)\n",
    "games_joined.drop(games_joined.columns[-2], axis=1, inplace=True)\n",
    "\n",
    "# adding a column that states the opposing team\n",
    "games_joined['Opposing_Team'] = games_joined.apply(lambda row: row['HOME_TEAM_NAME'] if row['HOME_TEAM_NAME'] != \"SAS\" else row['AWAY_TEAM_NAME'], axis=1)\n",
    "\n",
    "# add the team city\n",
    "games_joined = games_joined.merge(teams[[\"ABBREVIATION\", \"CITY\"]], how='left', left_on=\"Opposing_Team\", right_on=\"ABBREVIATION\").reset_index(drop=True)\n",
    "games_joined.drop(games_joined.columns[-2], axis=1, inplace=True)\n",
    "\n",
    "# SHOW ONLY GAMES FROM RELEVANT DATES\n",
    "games_joined['GAME_DATE_EST'] = pd.to_datetime(games_joined['GAME_DATE_EST'])\n",
    "games_filtered = games_joined[(games_joined['SEASON']>= 2004) & (games_joined['SEASON'] <=2021)]\n",
    "games_filtered = games_filtered.reset_index(drop=True).sort_values(\"GAME_DATE_EST\")\n",
    "\n",
    "# Show only games where the spurs played\n",
    "games_filtered_spurs = games_filtered[(games_filtered['AWAY_TEAM_NAME']=='SAS') | (games_filtered['HOME_TEAM_NAME']=='SAS')]\n",
    "\n",
    "# adding a spurs win column\n",
    "spurs_win_condition = [(games_filtered_spurs[\"HOME_TEAM_WINS\"]==1) & (games_filtered_spurs[\"HOME_TEAM_NAME\"]=='SAS'), \n",
    "             (games_filtered_spurs[\"HOME_TEAM_WINS\"]==0) & (games_filtered_spurs[\"AWAY_TEAM_NAME\"]=='SAS')] # spurs win condition\n",
    "spurs_win_values = [1,1]\n",
    "games_filtered_spurs['SPURS_WON']=np.select(spurs_win_condition, spurs_win_values)"
   ]
  },
  {
   "cell_type": "code",
   "execution_count": null,
   "metadata": {},
   "outputs": [],
   "source": [
    "# spurs team id: 1610612759\n",
    "\n",
    "# cleaning games_details data\n",
    "\n",
    "# retrieve only players who played for spurs at some point in their careers\n",
    "games_details_spurs = games_details[games_details['PLAYER_NAME'].isin(players_spurs[\"player_name\"])].reset_index(drop=True)\n",
    "\n",
    "# retrieve boxscores of spurs games only\n",
    "games_details_spurs = games_details_spurs[games_details_spurs['TEAM_ID']==1610612759]\n",
    "\n",
    "# append game_date_est + season\n",
    "games_details_spurs = games_details_spurs.merge(games_filtered_spurs[['GAME_DATE_EST', 'GAME_ID', 'SEASON']], on='GAME_ID')"
   ]
  },
  {
   "cell_type": "code",
   "execution_count": 33,
   "metadata": {},
   "outputs": [],
   "source": [
    "'''\n",
    "data sets to use: \n",
    "games_details_spurs: for player stats per game\n",
    "games_filtered_spurs: for spurs win loss record and aggregated stats\n",
    "players_stats: current and ex-spurs stats\n",
    "'''\n",
    "# Create a Pandas Excel writer using XlsxWriter as the engine\n",
    "writer = pd.ExcelWriter('Spurs Data Updated.xlsx', engine='xlsxwriter')\n",
    "\n",
    "# Write each dataframe to a different worksheet\n",
    "games_details_spurs.to_excel(writer, sheet_name='games_details_spurs', index=False)\n",
    "games_filtered_spurs.to_excel(writer, sheet_name='games_filtered_spurs', index=False)\n",
    "players_stats.to_excel(writer, sheet_name='players_stats', index=False)\n",
    "\n",
    "# Save the workbook\n",
    "writer.save()"
   ]
  },
  {
   "cell_type": "code",
   "execution_count": null,
   "metadata": {},
   "outputs": [],
   "source": [
    "# Close the workbook\n",
    "writer.close()"
   ]
  },
  {
   "cell_type": "code",
   "execution_count": 19,
   "metadata": {},
   "outputs": [],
   "source": [
    "# Csv with ALL players stats\n",
    "players_filtered.to_csv('all_players.csv', index=False)  # Set index=False to avoid saving the index"
   ]
  }
 ],
 "metadata": {
  "kernelspec": {
   "display_name": "base",
   "language": "python",
   "name": "python3"
  },
  "language_info": {
   "codemirror_mode": {
    "name": "ipython",
    "version": 3
   },
   "file_extension": ".py",
   "mimetype": "text/x-python",
   "name": "python",
   "nbconvert_exporter": "python",
   "pygments_lexer": "ipython3",
   "version": "3.9.12"
  }
 },
 "nbformat": 4,
 "nbformat_minor": 2
}
